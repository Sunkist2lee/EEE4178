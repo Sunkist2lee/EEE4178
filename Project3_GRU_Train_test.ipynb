{
  "nbformat": 4,
  "nbformat_minor": 0,
  "metadata": {
    "colab": {
      "name": "GRU_Train_test.ipynb",
      "provenance": [],
      "collapsed_sections": [],
      "authorship_tag": "ABX9TyMIXjo6zILgew7s9dRuws3A",
      "include_colab_link": true
    },
    "kernelspec": {
      "name": "python3",
      "display_name": "Python 3"
    },
    "language_info": {
      "name": "python"
    }
  },
  "cells": [
    {
      "cell_type": "markdown",
      "metadata": {
        "id": "view-in-github",
        "colab_type": "text"
      },
      "source": [
        "<a href=\"https://colab.research.google.com/github/Sunkist2lee/EEE4178/blob/main/Project3_GRU_Train_test.ipynb\" target=\"_parent\"><img src=\"https://colab.research.google.com/assets/colab-badge.svg\" alt=\"Open In Colab\"/></a>"
      ]
    },
    {
      "cell_type": "markdown",
      "metadata": {
        "id": "a6zf9vi1FbOq"
      },
      "source": [
        "Fashion MNIST Dataset Classification by GRU  "
      ]
    },
    {
      "cell_type": "markdown",
      "metadata": {
        "id": "4ooblz2kF4ZR"
      },
      "source": [
        "**1**. Define Hyper-parameters and device configuration "
      ]
    },
    {
      "cell_type": "code",
      "metadata": {
        "id": "dQo1y--bFPXv"
      },
      "source": [
        "import torch"
      ],
      "execution_count": null,
      "outputs": []
    },
    {
      "cell_type": "code",
      "metadata": {
        "id": "q9IDGqevGPDt"
      },
      "source": [
        "device = torch.device('cuda' if torch.cuda.is_available() else 'cpu')\n",
        "\n",
        "# Hyper parameters\n",
        "sequence_length = 28\n",
        "input_size = 28     # input data의 차원\n",
        "hidden_size = 128   # hidden state의 차원\n",
        "num_layers = 2     # RNN의 은닉층 레이어 개수\n",
        "num_classes = 10\n",
        "batch_size = 100\n",
        "num_epochs = 10\n",
        "learning_rate = 0.001"
      ],
      "execution_count": null,
      "outputs": []
    },
    {
      "cell_type": "code",
      "metadata": {
        "id": "faxcuvzWGwdP"
      },
      "source": [
        "import torchvision\n",
        "import torchvision.transforms as transforms"
      ],
      "execution_count": null,
      "outputs": []
    },
    {
      "cell_type": "code",
      "metadata": {
        "id": "I4tFD2rxG3f6"
      },
      "source": [
        "# Load fashion-MNIST dataset\n",
        "\n",
        "train_set = torchvision.datasets.FashionMNIST(root='./datasets',\n",
        "                                        train=True,\n",
        "                                        transform=transforms.ToTensor(),\n",
        "                                        download=True)\n",
        " \n",
        "test_data = torchvision.datasets.FashionMNIST(root='./datasets',\n",
        "                                        train=False,\n",
        "                                        transform=transforms.ToTensor(),\n",
        "                                        download=True)\n",
        "\n",
        "# split data stage\n",
        "# split training data to training and validation data\n",
        "train_data, val_data = torch.utils.data.random_split(train_set, [50000, 10000])"
      ],
      "execution_count": null,
      "outputs": []
    },
    {
      "cell_type": "markdown",
      "metadata": {
        "id": "8z67vZOKFZwl"
      },
      "source": [
        "2. Define Dataloader"
      ]
    },
    {
      "cell_type": "code",
      "metadata": {
        "id": "RhA01ASWHFjZ"
      },
      "source": [
        "# Data Loader\n",
        "train_loader = torch.utils.data.DataLoader(dataset=train_data,\n",
        "                                           batch_size=batch_size,\n",
        "                                           shuffle=True)\n",
        "\n",
        "val_loader = torch.utils.data.DataLoader(dataset=val_data,\n",
        "                                        batch_size =batch_size,\n",
        "                                        shuffle = True)\n",
        "\n",
        "test_loader = torch.utils.data.DataLoader(dataset=test_data,\n",
        "                                          batch_size=batch_size,\n",
        "                                          shuffle=False)"
      ],
      "execution_count": null,
      "outputs": []
    },
    {
      "cell_type": "code",
      "metadata": {
        "id": "-zz-TdlqHovP"
      },
      "source": [
        "# Fashion MNIST DATA CLASSES 정의\n",
        "CLASSES = {0: 'T-shirt/top', 1: 'Trouser', 2: 'Pullover', 3: 'Dress', 4: 'Coat', 5: 'Sandal', 6: 'Shirt', 7: 'Sneaker', 8: 'Bag', 9: 'Ankle boot'}"
      ],
      "execution_count": null,
      "outputs": []
    },
    {
      "cell_type": "markdown",
      "metadata": {
        "id": "echAjYwiITO7"
      },
      "source": [
        "3. Check Data Sample Shape and Image"
      ]
    },
    {
      "cell_type": "code",
      "metadata": {
        "id": "2Y8MoMX3KJOY"
      },
      "source": [
        "import numpy as np\n",
        "import matplotlib\n",
        "import matplotlib.pyplot as plt\n",
        "from matplotlib.pyplot import imshow"
      ],
      "execution_count": null,
      "outputs": []
    },
    {
      "cell_type": "code",
      "metadata": {
        "id": "N6Ovfy8OIGlY"
      },
      "source": [
        "def image_show(tensor_image):\n",
        "  image = tensor_image.reshape(tensor_image.size()[1], tensor_image.size()[2])    # width x height\n",
        "  imshow(image, cmap='gray')\n",
        "\n",
        "images, labels = next(iter(train_loader))\n",
        "image1, label1 = images[0], labels[0]"
      ],
      "execution_count": null,
      "outputs": []
    },
    {
      "cell_type": "code",
      "metadata": {
        "colab": {
          "base_uri": "https://localhost:8080/"
        },
        "id": "F8hsFVvYOAbw",
        "outputId": "d2a7075c-ff0a-41f2-aa5b-173a01c16ec6"
      },
      "source": [
        "print(train_data[0][0].shape)\n",
        "print(train_data[0][-1])"
      ],
      "execution_count": null,
      "outputs": [
        {
          "output_type": "stream",
          "name": "stdout",
          "text": [
            "torch.Size([1, 28, 28])\n",
            "3\n"
          ]
        }
      ]
    },
    {
      "cell_type": "code",
      "metadata": {
        "colab": {
          "base_uri": "https://localhost:8080/",
          "height": 281
        },
        "id": "nHh9oIUnMA-p",
        "outputId": "a27f75f7-f60d-4c95-d14d-a8c385fc56ff"
      },
      "source": [
        "plt.imshow(train_data[0][0].reshape(28,28),cmap='gray')\n",
        "plt.title(train_data[0][-1])\n",
        "plt.show()"
      ],
      "execution_count": null,
      "outputs": [
        {
          "output_type": "display_data",
          "data": {
            "image/png": "[encoded data removed]",
            "text/plain": [
              "<Figure size 432x288 with 1 Axes>"
            ]
          },
          "metadata": {
            "needs_background": "light"
          }
        }
      ]
    },
    {
      "cell_type": "markdown",
      "metadata": {
        "id": "pbmX0ckdKscX"
      },
      "source": [
        "4. Define Model"
      ]
    },
    {
      "cell_type": "code",
      "metadata": {
        "id": "SZNMpF-dJ9bl"
      },
      "source": [
        "import torch.nn as nn\n",
        "import torch.nn.functional as F"
      ],
      "execution_count": null,
      "outputs": []
    },
    {
      "cell_type": "code",
      "metadata": {
        "id": "2J4s7hAPKw5s"
      },
      "source": [
        "class GRU(nn.Module):\n",
        "    def __init__(self, input_size, hidden_size, num_layers, num_classes):\n",
        "        super(GRU, self).__init__()\n",
        "        #save variables to use in other functions\n",
        "        self.input_size = input_size\n",
        "        self.hidden_size = hidden_size\n",
        "        self.num_layers = num_layers\n",
        "        \n",
        "        #define GRU layer\n",
        "        self.gru = nn.GRU(input_size, hidden_size, num_layers, batch_first=True)\n",
        "        #self.dropout = nn.Dropout(drop_percent)\n",
        "\n",
        "        self.fc = nn.Linear(hidden_size, num_classes)\n",
        "\n",
        "    def forward(self, x):\n",
        "         h0 = torch.zeros(self.num_layers, x.size(0), self.hidden_size).to(device)\n",
        "\n",
        "         # Forward prop\n",
        "         out, _ = self.gru(x, h0)\n",
        "         out = self.fc(out[:,-1,:])\n",
        "         \n",
        "         return out\n",
        "\n",
        "\n",
        "model = GRU(input_size, hidden_size, num_layers, num_classes).to(device)"
      ],
      "execution_count": null,
      "outputs": []
    },
    {
      "cell_type": "markdown",
      "metadata": {
        "id": "AGfFd7sxLAZB"
      },
      "source": [
        "5. Set Loss Function & Optomizer"
      ]
    },
    {
      "cell_type": "code",
      "metadata": {
        "id": "dzR7zGPkK7tp"
      },
      "source": [
        "criterion = nn.CrossEntropyLoss()\n",
        "optimizer = torch.optim.Adam(model.parameters(), lr=learning_rate)"
      ],
      "execution_count": null,
      "outputs": []
    },
    {
      "cell_type": "markdown",
      "metadata": {
        "id": "K_2x_KDiLVBv"
      },
      "source": [
        "6. Train & Validation"
      ]
    },
    {
      "cell_type": "markdown",
      "metadata": {
        "id": "YqVnRNa_Dc4R"
      },
      "source": [
        "6.1. Train Function"
      ]
    },
    {
      "cell_type": "code",
      "metadata": {
        "id": "dxK22ToyDbj4"
      },
      "source": [
        "def train(model, train_loader, optimizer, criterion):\n",
        "  epoch_loss, acc = 0, 0\n",
        "  model.train()\n",
        "  \n",
        "  for i, (image, label) in enumerate(train_loader):\n",
        "    image = image.reshape(-1, sequence_length, input_size).to(device)\n",
        "    label = label.to(device)\n",
        "\n",
        "    # Forward\n",
        "    output = model(image)\n",
        "    loss = criterion(output, label)\n",
        "\n",
        "    # Backward and optimize\n",
        "    optimizer.zero_grad()\n",
        "    loss.backward()\n",
        "    optimizer.step()\n",
        "\n",
        "    epoch_loss += loss.item()\n",
        "\n",
        "  return epoch_loss/(i+1)"
      ],
      "execution_count": null,
      "outputs": []
    },
    {
      "cell_type": "markdown",
      "metadata": {
        "id": "XUpk0aV-EJTM"
      },
      "source": [
        "6.2. Validation Function"
      ]
    },
    {
      "cell_type": "code",
      "metadata": {
        "id": "LPmo_YX3DZqw"
      },
      "source": [
        "def evaluate(model, data_loader, criterion):\n",
        "  epoch_loss, acc = 0, 0\n",
        "  model.eval()\n",
        "\n",
        "  with torch.no_grad():\n",
        "    for (image, label) in data_loader:\n",
        "      image = image.reshape(-1, sequence_length, input_size).to(device)\n",
        "      label = label.to(device)\n",
        "\n",
        "      output = model(image)\n",
        "      loss = criterion(output, label)\n",
        "\n",
        "      epoch_loss += loss.item()\n",
        "\n",
        "  return epoch_loss/len(data_loader)"
      ],
      "execution_count": null,
      "outputs": []
    },
    {
      "cell_type": "markdown",
      "metadata": {
        "id": "xr5PJiexFFLi"
      },
      "source": [
        "6.3. Train"
      ]
    },
    {
      "cell_type": "code",
      "metadata": {
        "colab": {
          "base_uri": "https://localhost:8080/"
        },
        "id": "YVMdXZCXFB-3",
        "outputId": "5cb51c87-b95d-432d-813c-de9cbbe7b36a"
      },
      "source": [
        "#### GRU ####\n",
        "#### Train ####\n",
        "loss_history = []\n",
        "val_loss_history = []\n",
        "\n",
        "print(\"____GRU____\")\n",
        "best_valid_loss = float('inf')\n",
        "best_epoch = 0\n",
        "for epoch in range(num_epochs):\n",
        "  train_loss = train(model, train_loader, optimizer, criterion)\n",
        "  valid_loss = evaluate(model, val_loader, criterion)\n",
        "  loss_history.append(train_loss)\n",
        "  val_loss_history.append(valid_loss)\n",
        "\n",
        "  if valid_loss < best_valid_loss:\n",
        "    best_valid_loss = valid_loss\n",
        "    best_epoch = epoch\n",
        "\n",
        "  if epoch+1 == num_epochs:\n",
        "    torch.save(model.state_dict(), 'gru_20161830.pth')\n",
        "  else:\n",
        "    torch.save(model.state_dict(), 'GRU-{:02d}_epochs.pth'.format(epoch+1))\n",
        "\n",
        "  print(\"Epoch[{}/{}], Train Loss:{:.4f}, Valid Loss:{:.4f}\".format(epoch+1, num_epochs, train_loss, valid_loss))"
      ],
      "execution_count": null,
      "outputs": [
        {
          "output_type": "stream",
          "name": "stdout",
          "text": [
            "____GRU____\n",
            "Epoch[1/10], Train Loss:0.7506, Valid Loss:0.4925\n",
            "Epoch[2/10], Train Loss:0.4482, Valid Loss:0.3992\n",
            "Epoch[3/10], Train Loss:0.3829, Valid Loss:0.3577\n",
            "Epoch[4/10], Train Loss:0.3502, Valid Loss:0.3327\n",
            "Epoch[5/10], Train Loss:0.3277, Valid Loss:0.3148\n",
            "Epoch[6/10], Train Loss:0.3047, Valid Loss:0.3142\n",
            "Epoch[7/10], Train Loss:0.2879, Valid Loss:0.2836\n",
            "Epoch[8/10], Train Loss:0.2729, Valid Loss:0.2789\n",
            "Epoch[9/10], Train Loss:0.2596, Valid Loss:0.2696\n",
            "Epoch[10/10], Train Loss:0.2460, Valid Loss:0.2768\n"
          ]
        }
      ]
    },
    {
      "cell_type": "markdown",
      "metadata": {
        "id": "2GCl5zaEW6Fj"
      },
      "source": [
        "- Learning Curve (Validation Loss vs Epochs)"
      ]
    },
    {
      "cell_type": "code",
      "metadata": {
        "id": "HpqpHCZZXJNE",
        "colab": {
          "base_uri": "https://localhost:8080/",
          "height": 279
        },
        "outputId": "03962fa8-153e-4027-b9dd-38249ac426e5"
      },
      "source": [
        "plt.plot(range(1,len(loss_history)+1), loss_history, 'bo', label = 'Train Loss') \n",
        "plt.plot(range(1,len(val_loss_history)+1), val_loss_history, 'r-', label = 'Validation Loss') \n",
        "\n",
        "plt.xlabel(\"epochs\")\n",
        "plt.ylabel(\"Loss\")\n",
        "plt.legend()\n",
        "plt.show()"
      ],
      "execution_count": null,
      "outputs": [
        {
          "output_type": "display_data",
          "data": {
            "image/png": "[encoded data removed]",
            "text/plain": [
              "<Figure size 432x288 with 1 Axes>"
            ]
          },
          "metadata": {
            "needs_background": "light"
          }
        }
      ]
    },
    {
      "cell_type": "markdown",
      "metadata": {
        "id": "XqdoTJN5Wz9z"
      },
      "source": [
        "7. Test Accuracy"
      ]
    },
    {
      "cell_type": "code",
      "metadata": {
        "colab": {
          "base_uri": "https://localhost:8080/"
        },
        "id": "eSdgR91tLO5j",
        "outputId": "7565806d-376a-46a0-baac-e419be864f7e"
      },
      "source": [
        "####### TEST ########\n",
        "with torch.no_grad():\n",
        "  correct = 0\n",
        "\n",
        "  for image, label in test_loader:\n",
        "    image = image.reshape(-1, sequence_length, input_size).to(device)\n",
        "    label = label.to(device)\n",
        "    output = model(image)\n",
        "    _, pred = torch.max(output.data, 1)\n",
        "    correct += (pred == label).sum().item()\n",
        "\n",
        "  print('Test Accuracy of GRU model on the {} test images: {}%'.format(len(test_data), 100 * correct / len(test_data)))"
      ],
      "execution_count": null,
      "outputs": [
        {
          "output_type": "stream",
          "name": "stdout",
          "text": [
            "Test Accuracy of GRU model on the 10000 test images: 89.14%\n"
          ]
        }
      ]
    },
    {
      "cell_type": "code",
      "metadata": {
        "id": "2OKTFOvKLl45"
      },
      "source": [
        ""
      ],
      "execution_count": null,
      "outputs": []
    }
  ]
}