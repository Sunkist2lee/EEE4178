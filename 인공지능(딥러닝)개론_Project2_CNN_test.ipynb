{
  "nbformat": 4,
  "nbformat_minor": 0,
  "metadata": {
    "colab": {
      "name": "HW2_test.ipynb",
      "provenance": [],
      "collapsed_sections": [],
      "authorship_tag": "ABX9TyNqMAxx+k6xqr10kSQei4hP",
      "include_colab_link": true
    },
    "kernelspec": {
      "name": "python3",
      "display_name": "Python 3"
    },
    "language_info": {
      "name": "python"
    },
    "accelerator": "GPU"
  },
  "cells": [
    {
      "cell_type": "markdown",
      "metadata": {
        "id": "view-in-github",
        "colab_type": "text"
      },
      "source": [
        "<a href=\"https://colab.research.google.com/github/Sunkist2lee/EEE4178/blob/main/%EC%9D%B8%EA%B3%B5%EC%A7%80%EB%8A%A5(%EB%94%A5%EB%9F%AC%EB%8B%9D)%EA%B0%9C%EB%A1%A0_Project2_CNN_test.ipynb\" target=\"_parent\"><img src=\"https://colab.research.google.com/assets/colab-badge.svg\" alt=\"Open In Colab\"/></a>"
      ]
    },
    {
      "cell_type": "code",
      "metadata": {
        "id": "FC6alf0t3XsU"
      },
      "source": [
        "import torch\n",
        "\n",
        "## Device Configuration\n",
        "device = torch.device('cuda' if torch.cuda.is_available() else 'cpu')"
      ],
      "execution_count": null,
      "outputs": []
    },
    {
      "cell_type": "code",
      "metadata": {
        "id": "iVCG3Tim3Xh9"
      },
      "source": [
        "batch_size = 16\n",
        "learning_rate = 0.001\n",
        "num_epochs = 10"
      ],
      "execution_count": null,
      "outputs": []
    },
    {
      "cell_type": "code",
      "metadata": {
        "id": "h-Ef6hak3XZU"
      },
      "source": [
        "import torchvision\n",
        "import torchvision.transforms as transforms"
      ],
      "execution_count": null,
      "outputs": []
    },
    {
      "cell_type": "code",
      "metadata": {
        "colab": {
          "base_uri": "https://localhost:8080/"
        },
        "id": "6Yrw-u-m3XPt",
        "outputId": "b0db35df-9acd-4732-d6c0-6f08db33667d"
      },
      "source": [
        "## 데이터 텐서 변환 및 정규화\n",
        "transform = transforms.Compose([transforms.ToTensor(),\n",
        "                               transforms.Normalize((0.5, 0.5, 0.5), (0.5, 0.5, 0.5))])\n",
        "\n",
        "## Load Data\n",
        "train_data = torchvision.datasets.CIFAR10(root='./datasets',\n",
        "                                        train=True,\n",
        "                                        transform=transforms.ToTensor(),\n",
        "                                        download=True)\n",
        "\n",
        "test_data = torchvision.datasets.CIFAR10(root='./datasets',\n",
        "                                       train=False,\n",
        "                                       transform=transforms.ToTensor())"
      ],
      "execution_count": null,
      "outputs": [
        {
          "output_type": "stream",
          "name": "stdout",
          "text": [
            "Files already downloaded and verified\n"
          ]
        }
      ]
    },
    {
      "cell_type": "code",
      "metadata": {
        "id": "q5ZaOVqZ3XF2"
      },
      "source": [
        "trainloader = torch.utils.data.DataLoader(train_data, batch_size=batch_size,\n",
        "                                          shuffle=True, num_workers=2)\n",
        "\n",
        "testloader = torch.utils.data.DataLoader(test_data, batch_size=batch_size,\n",
        "                                        shuffle=False, num_workers=2)\n"
      ],
      "execution_count": null,
      "outputs": []
    },
    {
      "cell_type": "code",
      "metadata": {
        "id": "fVGmEOOi3u8b"
      },
      "source": [
        "## CIFAR10 DATASET 클래스 정의\n",
        "classes = ('plane', 'car', 'bird', 'cat','deer', 'dog', 'frog', 'horse', 'ship', 'truck')"
      ],
      "execution_count": null,
      "outputs": []
    },
    {
      "cell_type": "code",
      "metadata": {
        "id": "siaSd_1v3x91"
      },
      "source": [
        "import torch.nn as nn\n",
        "import torch.nn.functional as F\n",
        "import torchsummary as summary ## layer 별 output shape 출력을 위해\n",
        "\n",
        "class Net(nn.Module):\n",
        "  def __init__(self, num_classes = 10):\n",
        "      super(Net, self).__init__()\n",
        "\n",
        "      #input = 3, 6 channel out, 5 * 5 kernal\n",
        "      self.conv1 = nn.Sequential(\n",
        "          nn.Conv2d(3, 6, 5, padding = 1),\n",
        "          nn.BatchNorm2d(6),\n",
        "          nn.ReLU(),\n",
        "          nn.MaxPool2d((2,2),stride=2)\n",
        "      )\n",
        "\n",
        "      #input = 6. 16 channel out, 3 * 3 kernal\n",
        "      self.conv2 = nn.Sequential(\n",
        "          nn.Conv2d(6, 16, 3, padding = 1),\n",
        "          nn.BatchNorm2d(16),\n",
        "          nn.ReLU(),\n",
        "          nn.MaxPool2d((2,2),stride=2)\n",
        "      )\n",
        "\n",
        "      #input = 16. 32 channel out, 3 * 3 kernal\n",
        "      self.conv3 = nn.Sequential(\n",
        "          nn.Conv2d(16, 32, 3, padding = 1), \n",
        "          nn.BatchNorm2d(32), \n",
        "          nn.ReLU(),\n",
        "          nn.MaxPool2d((2,2),stride=2)\n",
        "      )\n",
        "\n",
        "      self.fc1 = nn.Linear(288, 120)\n",
        "      self.fc2 = nn.Linear(120, 84)\n",
        "      self.fc3 = nn.Linear(84, 10)\n",
        "\n",
        "  def forward(self, x):\n",
        "      x = self.conv1(x)\n",
        "      x = self.conv2(x)\n",
        "      x = self.conv3(x)\n",
        "      x = x.reshape(x.size(0),-1)\n",
        "      x = F.relu(self.fc1(x))\n",
        "      x = F.relu(self.fc2(x))\n",
        "      x = self.fc3(x)\n",
        "      return x\n",
        "\n",
        "model = Net(10).to(device) ## 인스턴스 "
      ],
      "execution_count": null,
      "outputs": []
    },
    {
      "cell_type": "code",
      "metadata": {
        "id": "UZm1lJmY34fd"
      },
      "source": [
        "import torch.optim as optim\n",
        "\n",
        "criterion = nn.CrossEntropyLoss()\n",
        "optimizer = optim.Adam(model.parameters(), lr = learning_rate)"
      ],
      "execution_count": null,
      "outputs": []
    },
    {
      "cell_type": "code",
      "metadata": {
        "colab": {
          "base_uri": "https://localhost:8080/"
        },
        "id": "tBSkAPy52zvW",
        "outputId": "9255256c-5f4f-4fb1-f163-4721d03496f4"
      },
      "source": [
        "test_model = Net().to(device)\n",
        "\n",
        "test_model.load_state_dict(torch.load(\"model.pth\"))\n",
        "\n",
        "test_model.eval()\n",
        "\n",
        "with torch.no_grad():\n",
        "  correct = 0\n",
        "  \n",
        "  for img, lab in testloader:\n",
        "    img = img.to(device)\n",
        "    lab = lab.to(device)\n",
        "    out = test_model(img)\n",
        "    _, pred = torch.max(out.data, 1)\n",
        "    correct += (pred == lab).sum().item()\n",
        "\n",
        "  print(\"Accuracy of the network on the {} test images: {}%\".format(len(testloader)*batch_size, 100 * correct / (len(testloader) * batch_size)))\n"
      ],
      "execution_count": null,
      "outputs": [
        {
          "output_type": "stream",
          "name": "stdout",
          "text": [
            "Accuracy of the network on the 10000 test images: 69.42%\n"
          ]
        }
      ]
    },
    {
      "cell_type": "code",
      "metadata": {
        "id": "pTi3udHpCFKP"
      },
      "source": [
        ""
      ],
      "execution_count": null,
      "outputs": []
    }
  ]
}